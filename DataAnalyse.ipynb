{
 "cells": [
  {
   "cell_type": "markdown",
   "id": "51ea1eaa",
   "metadata": {},
   "source": [
    "# Travailler avec des données\n",
    "\n",
    "Ce notebook a pour objectif de vous aider à explorer la base de données BioTime disponible ici : https://zenodo.org/record/5026943\n",
    "Ces données sont trop lourdes, trop nombreuses, pour travailler avec Excel.\n",
    "\n",
    "Ouvrons ces données à l'aide de R.\n",
    "\n",
    "En préalable, il faut charger la librairie \"tidyverse\", indispensable pour lire et travailler avec un fichier .CSV"
   ]
  },
  {
   "cell_type": "code",
   "execution_count": null,
   "id": "5bd9851b",
   "metadata": {
    "scrolled": true
   },
   "outputs": [],
   "source": [
    "library(tidyverse)"
   ]
  },
  {
   "cell_type": "markdown",
   "id": "e742c0b2",
   "metadata": {},
   "source": [
    "Ouvrons le fichier CSV à l'aide de la fonction \"read_csv\". Les données se nommeront \"data\" dans la suite du code. En rouge, c'est le chemin absolu de mon fichier BioTime préalablement télécharger. Il faut que vous changiez le chemin pour travailler avec votre fichier BioTime. "
   ]
  },
  {
   "cell_type": "code",
   "execution_count": null,
   "id": "046284ca",
   "metadata": {
    "scrolled": true
   },
   "outputs": [],
   "source": [
    "#data <- read_csv(\"C:/Users/marie.parrens/Documents/Enseignement/OptionR_A4/Data/BioTIMEQuery_24_06_2021/BioTIMEQuery_24_06_2021.csv\")\n"
   ]
  },
  {
   "cell_type": "markdown",
   "id": "9cce50c9",
   "metadata": {},
   "source": [
    "Quelle est la dimension des données ? Combien y'a t'il de colonnes ? de lignes ?"
   ]
  },
  {
   "cell_type": "code",
   "execution_count": null,
   "id": "965b948b",
   "metadata": {},
   "outputs": [],
   "source": [
    "dim(data)"
   ]
  },
  {
   "cell_type": "markdown",
   "id": "71cce914",
   "metadata": {},
   "source": [
    "Chaque colonne a un titre. On peut le connaitre grâce à la commande :"
   ]
  },
  {
   "cell_type": "code",
   "execution_count": null,
   "id": "dc6dbcc9",
   "metadata": {},
   "outputs": [],
   "source": [
    "names(data)"
   ]
  },
  {
   "cell_type": "markdown",
   "id": "e832c95b",
   "metadata": {},
   "source": [
    "On peut obtenir des statistiques \"simples\" sur chaque colonne grâce à la fonction suivante :"
   ]
  },
  {
   "cell_type": "code",
   "execution_count": null,
   "id": "6a31369f",
   "metadata": {},
   "outputs": [],
   "source": [
    "summary(data)"
   ]
  },
  {
   "cell_type": "markdown",
   "id": "ae4598be",
   "metadata": {},
   "source": [
    "Regardons les 10 premières lignes du tableau pour se faire une meilleure idée de la structure des données."
   ]
  },
  {
   "cell_type": "code",
   "execution_count": null,
   "id": "74ba85b1",
   "metadata": {},
   "outputs": [],
   "source": [
    "data[1:30,]"
   ]
  },
  {
   "cell_type": "markdown",
   "id": "c7a9e4fa",
   "metadata": {},
   "source": [
    "Avez vous compris ce que signifie PLOT ? ID_SPECIES ?"
   ]
  },
  {
   "cell_type": "markdown",
   "id": "c7a9b942",
   "metadata": {},
   "source": [
    "## 1) Travail avec un lieu d'étude : sélection des données"
   ]
  },
  {
   "cell_type": "markdown",
   "id": "4fcedf4b",
   "metadata": {},
   "source": [
    "Selectionnons, par exemple, les données relative au plot 12."
   ]
  },
  {
   "cell_type": "code",
   "execution_count": null,
   "id": "8e965824",
   "metadata": {},
   "outputs": [],
   "source": [
    "data12 <- data[data$PLOT == 12,]"
   ]
  },
  {
   "cell_type": "markdown",
   "id": "7ddf6e8e",
   "metadata": {},
   "source": [
    "Quelle est la taille du vecteur data12 ? "
   ]
  },
  {
   "cell_type": "code",
   "execution_count": null,
   "id": "6f6d3cf8",
   "metadata": {},
   "outputs": [],
   "source": [
    "dim(data12)"
   ]
  },
  {
   "cell_type": "markdown",
   "id": "c6916ed9",
   "metadata": {},
   "source": [
    "Le nombre de lignes est très élevé, il y a surement des lignes avec des données maquantes (NA) prises en compte par R. Prenons un petit exemple pour comprendre ce qu'est une valeur manquante. Faisons une enquête auprès de 4 personnes et demandons-leur, leur poids. Les réponses sont : 45, 96 et 78. La quatrième personne n'a pas voulu répondre. Son absence de réponse sera notée NA sous R. "
   ]
  },
  {
   "cell_type": "code",
   "execution_count": null,
   "id": "841cfbaa",
   "metadata": {},
   "outputs": [],
   "source": [
    "poids <- c(45,96,78, NA)\n",
    "print(poids)"
   ]
  },
  {
   "cell_type": "markdown",
   "id": "97b9c6a2",
   "metadata": {},
   "source": [
    "La commande \"is.na\" nous permet de savoir pour chaque personne, si nous avons la valeur de son poids ou pas."
   ]
  },
  {
   "cell_type": "code",
   "execution_count": null,
   "id": "ae8194ae",
   "metadata": {},
   "outputs": [],
   "source": [
    "is.na(poids)"
   ]
  },
  {
   "cell_type": "markdown",
   "id": "f820e1cb",
   "metadata": {},
   "source": [
    "Pour ne pas fausser les résultats, imaginons que l'on veuille récupérer seulement les données des personnes qui nous ont communiqué leur poids. Pour cela, il suffit de récupérer les indices dont la commande précédente retoure FALSE"
   ]
  },
  {
   "cell_type": "code",
   "execution_count": null,
   "id": "7dfa0a36",
   "metadata": {},
   "outputs": [],
   "source": [
    "indices <- which(is.na(poids)==FALSE)\n",
    "print(indices)"
   ]
  },
  {
   "cell_type": "markdown",
   "id": "6fbe8dcb",
   "metadata": {},
   "source": [
    "C'est bien les 3 premières personnes qui ont donné leur poids. Utilions cette commande pour supprimer les lignes contenants des NA dans data12."
   ]
  },
  {
   "cell_type": "code",
   "execution_count": null,
   "id": "70430087",
   "metadata": {},
   "outputs": [],
   "source": [
    "indices12 <- which(is.na(data12$YEAR)==FALSE)"
   ]
  },
  {
   "cell_type": "markdown",
   "id": "423d5097",
   "metadata": {},
   "source": [
    "Combien de données me restent il ?"
   ]
  },
  {
   "cell_type": "code",
   "execution_count": null,
   "id": "8d61346a",
   "metadata": {},
   "outputs": [],
   "source": [
    "length(indices12)"
   ]
  },
  {
   "cell_type": "markdown",
   "id": "feddfd72",
   "metadata": {},
   "source": [
    "Selectionnons donc dans notre tableau les données chiffrées (celles sans les NA)."
   ]
  },
  {
   "cell_type": "code",
   "execution_count": null,
   "id": "1eefbf25",
   "metadata": {},
   "outputs": [],
   "source": [
    "data12ok <- data12[indices12,]\n",
    "dim(data12ok)"
   ]
  },
  {
   "cell_type": "markdown",
   "id": "34549fe9",
   "metadata": {},
   "source": [
    "Regardons maintenant le nombre d'espèces differentes présente chaque année pour le PLOT 12"
   ]
  },
  {
   "cell_type": "code",
   "execution_count": null,
   "id": "f1b39d6b",
   "metadata": {},
   "outputs": [],
   "source": [
    "# nombre d'années où l'on regarder combien d'especes differentes sont présentes.\n",
    "an <- 1984:2018\n",
    "EspecesDif <- numeric(length(an))\n",
    "for (ii in 1:length(an)){\n",
    "    tmp <- data12ok[data12ok$YEAR == an[ii],]\n",
    "    taille <- dim(tmp)\n",
    "    EspecesDif[ii]<-taille[1]\n",
    "}\n",
    "print(EspecesDif)"
   ]
  },
  {
   "cell_type": "markdown",
   "id": "6b4f5e16",
   "metadata": {},
   "source": [
    "### Représentation graphique des résultats à l'aide de ggplot2"
   ]
  },
  {
   "cell_type": "markdown",
   "id": "09eb59bc",
   "metadata": {},
   "source": [
    "Avant de commencer à faire un graphique avec ggplot2, il faut charger la librairie."
   ]
  },
  {
   "cell_type": "code",
   "execution_count": null,
   "id": "2447d57c",
   "metadata": {},
   "outputs": [],
   "source": [
    "library(ggplot2)"
   ]
  },
  {
   "cell_type": "markdown",
   "id": "15c2fddf",
   "metadata": {},
   "source": [
    "Graphique montrant l'évolution de la diversité des espèces au cours du temps pour le PLOT 12"
   ]
  },
  {
   "cell_type": "code",
   "execution_count": null,
   "id": "8bc30186",
   "metadata": {},
   "outputs": [],
   "source": [
    "# dataframe contenant les données necessaires à la création du graphique\n",
    "data.plot <- data.frame(an, EspecesDif)\n",
    "# Graphique simple\n",
    "p1<-ggplot(data=data.plot,aes(x=an,y=EspecesDif))+ geom_line(size=1.5,colour=\"black\")+theme_classic()+labs(y=\"Diversité des espèces\", x=\"Années\")\n",
    "p1"
   ]
  },
  {
   "cell_type": "markdown",
   "id": "917c7af1",
   "metadata": {},
   "source": [
    "Faisons de même pour un autre PLOT (par exemple, le PLOT 89) et ajoutons la courbe à la figure précédente."
   ]
  },
  {
   "cell_type": "code",
   "execution_count": null,
   "id": "9a0dfb3a",
   "metadata": {},
   "outputs": [],
   "source": [
    "# PLOT choisi :\n",
    "n = 89\n",
    "# selection du PLOT n\n",
    "dataN <- data[data$PLOT == n,]\n",
    "# selection des lignes ne contenant pas NA\n",
    "indicesN <- which(is.na(dataN$YEAR)==FALSE)\n",
    "dataNok <- dataN[indicesN,]\n",
    "# nombre d'années où l'on regarder combien d'especes differentes sont présentes.\n",
    "an <- 1984:2018\n",
    "EspecesDifN <- numeric(length(an))\n",
    "for (ii in 1:length(an)){\n",
    "    tmp <- dataNok[dataNok$YEAR == an[ii],]\n",
    "    taille <- dim(tmp)\n",
    "    EspecesDifN[ii]<-taille[1]\n",
    "}\n",
    "print(EspecesDifN)\n",
    "# graphique avec les deux courbes\n",
    "data.plot2 <- data.frame(an, EspecesDif, EspecesDifN)\n",
    "p2 <- ggplot(data.plot2,aes(an)) + \n",
    "geom_line(aes(y=EspecesDif), size=1.5,colour = \"black\") + \n",
    "geom_line(aes(y=EspecesDifN), size=1.5,colour = \"gray\")+\n",
    "labs(x=\"Années\",y=\"Diversité des espèces\")+\n",
    "expand_limits(y=0)+\n",
    "theme_classic()\n",
    "\n",
    "p2"
   ]
  },
  {
   "cell_type": "markdown",
   "id": "e82162cb",
   "metadata": {},
   "source": [
    "Reprenons le PLOT 12 et représentons l'évolution de chaque espèce en fonction du temps."
   ]
  },
  {
   "cell_type": "code",
   "execution_count": null,
   "id": "c90e8d95",
   "metadata": {},
   "outputs": [],
   "source": [
    "# determination des espèces (ID_SPECIES à considérer)\n",
    "df <- data12ok\n",
    "# organisation du tableau en plus petits tableaux ne contenant que la memme espèce\n",
    "spdf <- split(df, df$ID_SPECIES)\n",
    "#spdf[1]\n",
    "# boucle sur chaque petit tableau pour faire la somme de toutes les espèces pendant une meme annnée.\n",
    "mat <- matrix(data = 0, nrow = length(spdf), ncol = length(an), byrow = FALSE)\n",
    "for (i in 1:length(an)){\n",
    "    # chaque petit tableau devient un dataframe\n",
    "    tmp <- as.data.frame(spdf[i])\n",
    "    # l'ente de chaque petit tableau est exactement le meme que celle du grand tableau\n",
    "    colnames(tmp) <- as.character(names(data)) \n",
    "    # pour chaque année, on somme l'abondance \n",
    "    tmp2 <- tmp %>% group_by(tmp$YEAR) %>% summarise(sum.allrawdata.ABUNDANCE = sum(sum.allrawdata.ABUNDANCE))\n",
    "    # on ecrit les résultats dans une matrice \"nbre espece x annnée\"\n",
    "    for (j in 1:length(tmp2)){\n",
    "       mat[i,unlist(tmp2[j,1],use.names = FALSE)-an[1]+1] <- unlist(tmp2[j,2], use.names = FALSE)\n",
    "    }    \n",
    "}\n",
    "# parfois, aucune espèce a été détecté sur toute la période -> suppression ligne blanche\n",
    "somme <- sum(t(mat))\n",
    "matOK <- mat[somme!=0,]\n",
    "dim(matOK)\n",
    "# creation dataframe pour le graphique \n",
    "#dataplot <- data.frame(mat)\n",
    "#colnames(dataplot) <- as.character(an) \n",
    "#species <- data12ok %>% group_by(data12ok$ID_SPECIES) %>% summarise(sum.allrawdata.ABUNDANCE = sum(sum.allrawdata.ABUNDANCE))\n",
    "#rownames(dataplot) <- unlist(species[,1])\n",
    "#dataplot[450:470,]\n",
    "#p1<-ggplot(data=dataplot, aes(x=an, y=dataplot[2,]))+ geom_point()+theme_classic()+labs(y=\"Diversité des espèces\", x=\"Années\")\n"
   ]
  },
  {
   "cell_type": "code",
   "execution_count": null,
   "id": "0ce3af42",
   "metadata": {},
   "outputs": [],
   "source": [
    "install.packages(\"matlab\")\n",
    "library(matlab)\n",
    "imagesc(matOK, xlab=\"cols\", ylab=\"rows\", col=jet.colors(16))"
   ]
  },
  {
   "cell_type": "markdown",
   "id": "22e4882d",
   "metadata": {},
   "source": [
    "### 2) Localisation des lieux d'étude\n",
    "\n",
    "Dans cette partie, on souhaite avoir un aperçu du jeu de données dans son ensemble. Par exemple, on va chercher à localiser les lieux d'étude (PLOT) sur une carte du monde.\n",
    "La fonction suivante va permettre de dessiner une carte du monde et de représenter un ou des lieux d'études sur la carte."
   ]
  },
  {
   "cell_type": "code",
   "execution_count": null,
   "id": "f3857bcb",
   "metadata": {},
   "outputs": [],
   "source": [
    "drawWorld<-function(lats) {\n",
    "  world_map<-map_data(\"world\")\n",
    "\tg1<-ggplot()+coord_fixed()+xlab(\"\")+ylab(\"\")\n",
    "\tg1<-g1+geom_polygon(data=world_map, aes(x=long, y=lat, group=group), colour=\"gray60\", fill=\"gray70\")\n",
    "\tg1<-g1+theme(panel.grid.major=element_blank(), panel.grid.minor=element_blank(), \n",
    "\tpanel.background=element_rect(fill=\"white\", colour=\"white\"), axis.line=element_line(colour=\"white\"),\n",
    "\tlegend.position=\"none\",axis.ticks=element_blank(), axis.text.x=element_blank(), axis.text.y=element_blank())\n",
    "\t\n",
    "\tif(lats==\"y\") {\n",
    "\t\tg1<-g1+geom_hline(yintercept=23.5, colour=\"red\")+geom_hline(yintercept =-23.5, colour=\"red\")\n",
    "\t\tg1<-g1+geom_hline(yintercept=66.5, colour=\"darkblue\")+geom_hline(yintercept =-66.5, colour=\"darkblue\")\n",
    "\t}\n",
    "\telse { return(g1) }\n",
    "\t\treturn(g1)\n",
    "}"
   ]
  },
  {
   "cell_type": "markdown",
   "id": "8de6b14d",
   "metadata": {},
   "source": [
    "Cette fonction a un argument. On peut choisir de dessiner les tropiques (arg = \"y\") ou les lattitudes polaires (arg = \"n\"). Essatez la fonction avec les deux arguments."
   ]
  },
  {
   "cell_type": "code",
   "execution_count": null,
   "id": "9dba16db",
   "metadata": {},
   "outputs": [],
   "source": []
  },
  {
   "cell_type": "markdown",
   "id": "6164b029",
   "metadata": {},
   "source": [
    "Essyons maintenant de représenter un point sur la carte. Toulouse se situe environ à 43,60°N et 1.44°E. La fonction \"geom_point\" a besoin d'un dataframe en entrée. Il faut donc écrire les coordonnées de Toulouse sous forme d'un dataframe."
   ]
  },
  {
   "cell_type": "code",
   "execution_count": null,
   "id": "fe97ed92",
   "metadata": {},
   "outputs": [],
   "source": [
    "# creation d'un dataframe contenant les coordonnées de Toulouse. 10 represente la taille du point sur la carte\n",
    "result <- data.frame(t(c(10,43.60,1.44)))\n",
    "colnames(result) <- c(\"res\", \"lat\", \"lon\")\n",
    "# graphique : carte du monde + point de Toulouse\n",
    "carte <- drawWorld(\"n\")+geom_point(data=result, aes(x=lon, y=lat), alpha=I(0.7))\n",
    "carte"
   ]
  },
  {
   "cell_type": "markdown",
   "id": "db238d06",
   "metadata": {},
   "source": [
    "On peut maintenant représenter sur la carte tous les lieux d'étude (PLOT) utilisé dans cette base de données."
   ]
  },
  {
   "cell_type": "code",
   "execution_count": null,
   "id": "832ba1d8",
   "metadata": {},
   "outputs": [],
   "source": [
    "dfplot <- split(data,data$PLOT)\n",
    "cood <- matrix(data = 0, nrow = length(dfplot), ncol = 2, byrow = TRUE)\n",
    "for (i in 1 : length(dfplot)){\n",
    "    tmp2 <- dfplot[i]\n",
    "    toto <- tmp2[[1]] \n",
    "    cood[i,1] <- unlist(toto[1,\"LATITUDE\"], use.names = FALSE)\n",
    "    cood[i,2] <- unlist(toto[1,\"LONGITUDE\"], use.names = FALSE)\n",
    "}\n",
    "# preparation du dataframe\n",
    "plotplot <- data.frame(cood)\n",
    "col_headings <- c(\"lat\",\"lon\")\n",
    "names(plotplot) <- col_headings\n",
    "\n",
    "# Carte + lieux d'étude\n",
    "carte <- drawWorld(\"n\")+geom_point(data=plotplot, aes(x=lon, y=lat), alpha=I(0.7))\n",
    "carte"
   ]
  }
 ],
 "metadata": {
  "kernelspec": {
   "display_name": "R",
   "language": "R",
   "name": "ir"
  },
  "language_info": {
   "codemirror_mode": "r",
   "file_extension": ".r",
   "mimetype": "text/x-r-source",
   "name": "R",
   "pygments_lexer": "r",
   "version": "3.6.1"
  }
 },
 "nbformat": 4,
 "nbformat_minor": 5
}
